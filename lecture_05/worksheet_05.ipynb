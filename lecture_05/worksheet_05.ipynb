{
 "cells": [
  {
   "attachments": {},
   "cell_type": "markdown",
   "metadata": {},
   "source": [
    "# Worksheet 05\n",
    "\n",
    "Name: Karla Vazquez\n",
    "\n",
    "UID: U70624155\n",
    "\n",
    "### Topics\n",
    "\n",
    "- Cost Functions\n",
    "- Kmeans\n",
    "\n",
    "### Cost Function\n",
    "\n",
    "Solving Data Science problems often starts by defining a metric with which to evaluate solutions were you able to find some. This metric is called a cost function. Data Science then backtracks and tries to find a process / algorithm to find solutions that can optimize for that cost function.\n",
    "\n",
    "For example suppose you are asked to cluster three points A, B, C into two non-empty clusters. If someone gave you the solution `{A, B}, {C}`, how would you evaluate that this is a good solution?\n",
    "\n",
    "Notice that because the clusters need to be non-empty and all points must be assigned to a cluster, it must be that two of the three points will be together in one cluster and the third will be alone in the other cluster.\n",
    "\n",
    "In the above solution, if A and B are closer than A and C, and B and C, then this is a good solution. The smaller the distance between the two points in the same cluster (here A and B), the better the solution. So we can define our cost function to be that distance (between A and B here)!\n",
    "\n",
    "The algorithm / process would involve clustering together the two closest points and put the third in its own cluster. This process optimizes for that cost function because no other pair of points could have a lower distance (although it could equal it)."
   ]
  },
  {
   "cell_type": "markdown",
   "metadata": {},
   "source": [
    "### K means\n",
    "\n",
    "a) (1-dimensional clustering) Walk through Lloyd's algorithm step by step on the following dataset:\n",
    "\n",
    "`[0, .5, 1.5, 2, 6, 6.5, 7]` (note: each of these are 1-dimensional data points)\n",
    "\n",
    "Given the initial centroids:\n",
    "\n",
    "`[0, 2]`"
   ]
  },
  {
   "cell_type": "markdown",
   "metadata": {},
   "source": [
    "Distances from first centroid: [0, 0.5, 1.5, 2, 6, 6.5, 7]\n",
    "\n",
    "Distances from second centroid: [2, 1.5, 0.5, 0, 4, 4.5, 5]\n",
    "\n",
    "Cluster 1: [0, 0.5]\n",
    "\n",
    "Cluster 2: [1.5, 2, 6, 6.5, 7]\n",
    "\n",
    "new centroid 1= 0 + 0.5 / 2 = 0.25\n",
    "\n",
    "new centroid 2 = 1.5 + 2 + 6 + 6.5 + 7 / 5 = 4.6\n",
    "\n",
    "Second Iteration\n",
    "\n",
    "Distances from first centroid: [0.25, 0.25, 1.25, 1.75, 5.75, 6.25, 6.75]\n",
    "\n",
    "Distances from second centroid: [4.6, 4.1, 3.1, 2.6, 1.4, 1.9, 2.4]\n",
    "\n",
    "Cluster 1: [0, 0.5, 1.5. 2]\n",
    "\n",
    "Cluster 2: [6, 6.5, 7]\n",
    "\n",
    "new centroid 1 = 0 + 0.5 + 1.5 + 2 /4 = 1\n",
    "\n",
    "new centroid 2 = 6 + 6.5 + 7 /3 = 6.5\n",
    "\n",
    "3rd iteration\n",
    "\n",
    "distance from first centroid = [1, 0.5, 0.5, 1, 5, 5.5, 6]\n",
    "\n",
    "distance from second centroid = [6.5, 6, 5, 4.5, 0.5, 0, 0.5]\n",
    "\n",
    "Cluster 1: [0, 0.5, 1.5. 2]\n",
    "\n",
    "Cluster 2: [6, 6.5, 7]\n",
    "\n",
    "new centroid 1 = 0 + 0.5 + 1.5 + 2 /4 = 1\n",
    "\n",
    "new centroid 2 = 6 + 6.5 + 7 /3 = 6.5\n",
    "\n",
    "final answer : centroid 1 = 1, centroid 2 = 6.5"
   ]
  },
  {
   "cell_type": "markdown",
   "metadata": {},
   "source": [
    "b) Describe in plain english what the cost function for k means is."
   ]
  },
  {
   "cell_type": "markdown",
   "metadata": {},
   "source": [
    "It's a way to evaluate and compare solutions with the hope of minimizing the cost function. It is the sum of the squared distances for each cluster."
   ]
  },
  {
   "cell_type": "markdown",
   "metadata": {},
   "source": [
    "c) For the same number of clusters K, why could there be very different solutions to the K means algorithm on a given dataset?"
   ]
  },
  {
   "cell_type": "markdown",
   "metadata": {},
   "source": [
    "If the centroids are chosen far away from each other, then the centroids may converge to a local minimum instead of a global minimum."
   ]
  },
  {
   "cell_type": "markdown",
   "metadata": {},
   "source": [
    "d) Does Lloyd's Algorithm always converge? Why / why not?"
   ]
  },
  {
   "cell_type": "markdown",
   "metadata": {},
   "source": [
    "It will always converge. The lowest possible value of the cost functions has to occur because we are working with a finite data set, so there is a finite number of cost function values for the partitions we are working with. So eventually we will find it."
   ]
  },
  {
   "attachments": {},
   "cell_type": "markdown",
   "metadata": {},
   "source": [
    "e) Follow along in class the implementation of Kmeans"
   ]
  },
  {
   "cell_type": "code",
   "execution_count": 9,
   "metadata": {},
   "outputs": [
    {
     "ename": "AttributeError",
     "evalue": "'KMeans' object has no attribute 'dataset'",
     "output_type": "error",
     "traceback": [
      "\u001b[0;31m---------------------------------------------------------------------------\u001b[0m",
      "\u001b[0;31mAttributeError\u001b[0m                            Traceback (most recent call last)",
      "\u001b[1;32m/Users/karlala/Desktop/CS506/lecture_05/worksheet_05.ipynb Cell 11\u001b[0m line \u001b[0;36m7\n\u001b[1;32m     <a href='vscode-notebook-cell:/Users/karlala/Desktop/CS506/lecture_05/worksheet_05.ipynb#X13sZmlsZQ%3D%3D?line=68'>69</a>\u001b[0m         \u001b[39mreturn\u001b[39;00m\n\u001b[1;32m     <a href='vscode-notebook-cell:/Users/karlala/Desktop/CS506/lecture_05/worksheet_05.ipynb#X13sZmlsZQ%3D%3D?line=71'>72</a>\u001b[0m kmeans \u001b[39m=\u001b[39m KMeans(X, \u001b[39m6\u001b[39m)\n\u001b[0;32m---> <a href='vscode-notebook-cell:/Users/karlala/Desktop/CS506/lecture_05/worksheet_05.ipynb#X13sZmlsZQ%3D%3D?line=72'>73</a>\u001b[0m kmeans\u001b[39m.\u001b[39;49mlloyds()\n\u001b[1;32m     <a href='vscode-notebook-cell:/Users/karlala/Desktop/CS506/lecture_05/worksheet_05.ipynb#X13sZmlsZQ%3D%3D?line=73'>74</a>\u001b[0m images \u001b[39m=\u001b[39m kmeans\u001b[39m.\u001b[39msnaps\n\u001b[1;32m     <a href='vscode-notebook-cell:/Users/karlala/Desktop/CS506/lecture_05/worksheet_05.ipynb#X13sZmlsZQ%3D%3D?line=75'>76</a>\u001b[0m images[\u001b[39m0\u001b[39m]\u001b[39m.\u001b[39msave(\n\u001b[1;32m     <a href='vscode-notebook-cell:/Users/karlala/Desktop/CS506/lecture_05/worksheet_05.ipynb#X13sZmlsZQ%3D%3D?line=76'>77</a>\u001b[0m     \u001b[39m'\u001b[39m\u001b[39mkmeans.gif\u001b[39m\u001b[39m'\u001b[39m,\n\u001b[1;32m     <a href='vscode-notebook-cell:/Users/karlala/Desktop/CS506/lecture_05/worksheet_05.ipynb#X13sZmlsZQ%3D%3D?line=77'>78</a>\u001b[0m     optimize\u001b[39m=\u001b[39m\u001b[39mFalse\u001b[39;00m,\n\u001b[0;32m   (...)\u001b[0m\n\u001b[1;32m     <a href='vscode-notebook-cell:/Users/karlala/Desktop/CS506/lecture_05/worksheet_05.ipynb#X13sZmlsZQ%3D%3D?line=81'>82</a>\u001b[0m     duration\u001b[39m=\u001b[39m\u001b[39m500\u001b[39m\n\u001b[1;32m     <a href='vscode-notebook-cell:/Users/karlala/Desktop/CS506/lecture_05/worksheet_05.ipynb#X13sZmlsZQ%3D%3D?line=82'>83</a>\u001b[0m )\n",
      "\u001b[1;32m/Users/karlala/Desktop/CS506/lecture_05/worksheet_05.ipynb Cell 11\u001b[0m line \u001b[0;36m5\n\u001b[1;32m     <a href='vscode-notebook-cell:/Users/karlala/Desktop/CS506/lecture_05/worksheet_05.ipynb#X13sZmlsZQ%3D%3D?line=57'>58</a>\u001b[0m \u001b[39mdef\u001b[39;00m \u001b[39mlloyds\u001b[39m(\u001b[39mself\u001b[39m):\n\u001b[0;32m---> <a href='vscode-notebook-cell:/Users/karlala/Desktop/CS506/lecture_05/worksheet_05.ipynb#X13sZmlsZQ%3D%3D?line=58'>59</a>\u001b[0m     centers \u001b[39m=\u001b[39m \u001b[39mself\u001b[39;49m\u001b[39m.\u001b[39;49mintialize()\n\u001b[1;32m     <a href='vscode-notebook-cell:/Users/karlala/Desktop/CS506/lecture_05/worksheet_05.ipynb#X13sZmlsZQ%3D%3D?line=59'>60</a>\u001b[0m     \u001b[39mself\u001b[39m\u001b[39m.\u001b[39massign(centers)\n\u001b[1;32m     <a href='vscode-notebook-cell:/Users/karlala/Desktop/CS506/lecture_05/worksheet_05.ipynb#X13sZmlsZQ%3D%3D?line=60'>61</a>\u001b[0m     \u001b[39mself\u001b[39m\u001b[39m.\u001b[39msnap(centers)\n",
      "\u001b[1;32m/Users/karlala/Desktop/CS506/lecture_05/worksheet_05.ipynb Cell 11\u001b[0m line \u001b[0;36m3\n\u001b[1;32m     <a href='vscode-notebook-cell:/Users/karlala/Desktop/CS506/lecture_05/worksheet_05.ipynb#X13sZmlsZQ%3D%3D?line=29'>30</a>\u001b[0m \u001b[39mdef\u001b[39;00m \u001b[39mintialize\u001b[39m(\u001b[39mself\u001b[39m):\n\u001b[0;32m---> <a href='vscode-notebook-cell:/Users/karlala/Desktop/CS506/lecture_05/worksheet_05.ipynb#X13sZmlsZQ%3D%3D?line=30'>31</a>\u001b[0m     \u001b[39mreturn\u001b[39;00m \u001b[39mself\u001b[39m\u001b[39m.\u001b[39mdata[np\u001b[39m.\u001b[39mrandom\u001b[39m.\u001b[39mchoice(\u001b[39mrange\u001b[39m(\u001b[39mlen\u001b[39m(\u001b[39mself\u001b[39;49m\u001b[39m.\u001b[39;49mdataset)), \u001b[39mself\u001b[39m\u001b[39m.\u001b[39mk, replace\u001b[39m=\u001b[39m\u001b[39mFalse\u001b[39;00m)]\n",
      "\u001b[0;31mAttributeError\u001b[0m: 'KMeans' object has no attribute 'dataset'"
     ]
    }
   ],
   "source": [
    "import numpy as np\n",
    "from PIL import Image as im\n",
    "import matplotlib.pyplot as plt\n",
    "import sklearn.datasets as datasets\n",
    "\n",
    "centers = [[0, 0], [2, 2], [-3, 2], [2, -4]]\n",
    "X, _ = datasets.make_blobs(n_samples=300, centers=centers, cluster_std=1, random_state=0)\n",
    "\n",
    "class KMeans():\n",
    "\n",
    "    def __init__(self, data, k):\n",
    "        self.data = data\n",
    "        self.k = k\n",
    "        self.assignment = [-1 for _ in range(len(data))]\n",
    "        self.snaps = []\n",
    "    \n",
    "    def distance(x, y):\n",
    "        return np.linalg.norm(x - y)\n",
    "    \n",
    "    def snap(self, centers):\n",
    "        TEMPFILE = \"temp.png\"\n",
    "\n",
    "        fig, ax = plt.subplots()\n",
    "        ax.scatter(X[:, 0], X[:, 1], c=self.assignment)\n",
    "        ax.scatter(centers[:,0], centers[:, 1], c='r')\n",
    "        fig.savefig(TEMPFILE)\n",
    "        plt.close()\n",
    "        self.snaps.append(im.fromarray(np.asarray(im.open(TEMPFILE))))\n",
    "\n",
    "    def intialize(self):\n",
    "        return self.data[np.random.choice(range(len(self.dataset)), self.k, replace=False)]\n",
    "    \n",
    "    def assign(self, centers):\n",
    "        for i in range(len(self.data)):\n",
    "            minimum = self.distance(centers[0], self.data[i])\n",
    "            for j in range(1, len(centers)):\n",
    "                dist = self.distance(centers[j], self.data[i])\n",
    "                if dist < minimum:\n",
    "                    self.assignment[i] = j\n",
    "                    minimum = dist\n",
    "        return\n",
    "    def is_diff_clusters(self, centers, new_centers):\n",
    "        for i in range(len(centers)):\n",
    "            if self.distance(centers[i], new_centers[i]) !=  0:\n",
    "                return True\n",
    "        return False\n",
    "    \n",
    "    def get_centers(self):\n",
    "        centers = []\n",
    "        for i in set(self.assignment):\n",
    "            cluster = []\n",
    "            for j in range(len(self.data)):\n",
    "                if self.assignment[j] == i:\n",
    "                    cluster.append(self.data[j])\n",
    "            centers.append(np.mean(cluster, axis=0))\n",
    "        return np.array(centers)\n",
    "    \n",
    "    def lloyds(self):\n",
    "        centers = self.intialize()\n",
    "        self.assign(centers)\n",
    "        self.snap(centers)\n",
    "        new_centers = self.get_centers()\n",
    "        while self.is_diff_clusters(centers, self.get_centers()):\n",
    "            self.assign(new_centers)\n",
    "            centers = new_centers\n",
    "            self.snap(new_centers)\n",
    "            centers = self.get_centers()\n",
    "            \n",
    "        return\n",
    "            \n",
    "\n",
    "kmeans = KMeans(X, 6)\n",
    "kmeans.lloyds()\n",
    "images = kmeans.snaps\n",
    "\n",
    "images[0].save(\n",
    "    'kmeans.gif',\n",
    "    optimize=False,\n",
    "    save_all=True,\n",
    "    append_images=images[1:],\n",
    "    loop=0,\n",
    "    duration=500\n",
    ")"
   ]
  },
  {
   "cell_type": "code",
   "execution_count": 8,
   "metadata": {},
   "outputs": [
    {
     "name": "stdout",
     "output_type": "stream",
     "text": [
      "[[ 2.68981816  3.30184623]\n",
      " [ 2.35178011 -3.62076447]\n",
      " [ 2.28634369  2.60884383]\n",
      " [-3.11816405  1.3198218 ]]\n"
     ]
    }
   ],
   "source": [
    "centers = [[0, 0], [2, 2], [-3, 2], [2, -4]]\n",
    "data, _ = datasets.make_blobs(n_samples=300, centers=centers, cluster_std=1, random_state=0)\n",
    "print(data[np.random.choice(range(len(data)), 4, replace=False)])"
   ]
  }
 ],
 "metadata": {
  "kernelspec": {
   "display_name": "Python 3",
   "language": "python",
   "name": "python3"
  },
  "language_info": {
   "codemirror_mode": {
    "name": "ipython",
    "version": 3
   },
   "file_extension": ".py",
   "mimetype": "text/x-python",
   "name": "python",
   "nbconvert_exporter": "python",
   "pygments_lexer": "ipython3",
   "version": "3.10.2"
  },
  "orig_nbformat": 4,
  "vscode": {
   "interpreter": {
    "hash": "76ca05dc3ea24b2e3b98cdb7774adfbb40773424bf5109b477fd793f623715af"
   }
  }
 },
 "nbformat": 4,
 "nbformat_minor": 2
}
