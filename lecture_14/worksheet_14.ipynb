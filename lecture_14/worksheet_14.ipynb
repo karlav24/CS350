{
 "cells": [
  {
   "attachments": {},
   "cell_type": "markdown",
   "metadata": {},
   "source": [
    "# Worksheet 14\n",
    "\n",
    "Name:  Karla Vazquez\n",
    "\n",
    "UID: U70624155\n",
    "\n",
    "### Topics\n",
    "\n",
    "- Naive Bayes\n",
    "- Model Evaluation\n",
    "\n",
    "### Naive Bayes\n",
    "\n",
    "| Attribute A | Attribute B | Attribute C | Class |\n",
    "|-------------|-------------|-------------|-------|\n",
    "| Yes         | Single      | High        | No    |\n",
    "| No          | Married     | Mid         | No    |\n",
    "| No          | Single      | Low         | No    |\n",
    "| Yes         | Married     | High        | No    |\n",
    "| No          | Divorced    | Mid         | Yes   |\n",
    "| No          | Married     | Low         | No    |\n",
    "| Yes         | Divorced    | High        | No    |\n",
    "| No          | Single      | Mid         | Yes   |\n",
    "| No          | Married     | Low         | No    |\n",
    "| No          | Single      | Mid         | Yes   |\n",
    "\n",
    "a) Compute the following probabilities:\n",
    "\n",
    "- P(Attribute A = Yes | Class = No)\n",
    "- P(Attribute B = Divorced | Class = Yes)\n",
    "- P(Attribute C = High | Class = No)\n",
    "- P(Attribute C = Mid | Class = Yes)"
   ]
  },
  {
   "cell_type": "markdown",
   "metadata": {},
   "source": [
    "P(Attribute A = Yes | Class = No) = 3/7\n",
    "P(Attribute B = Divorced | Class = Yes) = 1/3\n",
    "P(Attribute C = High | Class = No) = 3/7\n",
    "P(Attribute C = Mid | Class = Yes) = 3/3"
   ]
  },
  {
   "cell_type": "markdown",
   "metadata": {},
   "source": [
    "b) Classify the following unseen records:\n",
    "\n",
    "- (Yes, Married, Mid)\n",
    "- (No, Divorced, High)\n",
    "- (No, Single, High)\n",
    "- (No, Divorced, Low)"
   ]
  },
  {
   "cell_type": "markdown",
   "metadata": {},
   "source": [
    "Yes, Married, Mid\n",
    "P(yes | C = yes) P(Married | C = yes) P(Mid | C = yes) P(yes) = 0\n",
    "vs \n",
    "P(yes | C = no) P(Married | C = no) P(Mid | C = no) P(no) = \n",
    "\n",
    "No, Divorced, High\n",
    "No, Single, High\n",
    "No, Divorced, Low"
   ]
  },
  {
   "cell_type": "markdown",
   "metadata": {},
   "source": [
    "### Model Evaluation\n",
    "\n",
    "a) Write a function to generate the confusion matrix for a list of actual classes and a list of predicted classes"
   ]
  },
  {
   "cell_type": "code",
   "execution_count": 5,
   "metadata": {},
   "outputs": [
    {
     "name": "stdout",
     "output_type": "stream",
     "text": [
      "     No  Yes\n",
      "No    4    3\n",
      "Yes   1    2\n"
     ]
    }
   ],
   "source": [
    "from sklearn.metrics import confusion_matrix\n",
    "import pandas as pd\n",
    "\n",
    "actual_class = [\"Yes\", \"No\", \"No\", \"Yes\", \"No\", \"No\", \"Yes\", \"No\", \"No\", \"No\"]\n",
    "predicted_class = [\"Yes\", \"No\", \"Yes\", \"No\", \"No\", \"No\", \"Yes\", \"Yes\", \"Yes\", \"No\"]\n",
    "\n",
    "def calculate_confusion_matrix(actual, predicted):\n",
    "    labels = list(set(actual) | set(predicted))\n",
    "    cm = confusion_matrix(actual, predicted, labels=labels)\n",
    "    cm_df = pd.DataFrame(cm, index=labels, columns=labels)\n",
    "    return cm_df\n",
    "\n",
    "print(calculate_confusion_matrix(actual_class, predicted_class))\n"
   ]
  },
  {
   "cell_type": "markdown",
   "metadata": {},
   "source": [
    "b) Assume you have the following Cost Matrix:\n",
    "\n",
    "|            | predicted = Y | predicted = N |\n",
    "|------------|---------------|---------------|\n",
    "| actual = Y |       -1      |       5       |\n",
    "| actual = N |        10     |       0       |\n",
    "\n",
    "What is the cost of the above classification?"
   ]
  },
  {
   "cell_type": "markdown",
   "metadata": {},
   "source": [
    "The total cost of the classification based on the provided Cost Matrix and the given actual and predicted classes is 14."
   ]
  },
  {
   "cell_type": "markdown",
   "metadata": {},
   "source": [
    "c) Write a function that takes in the actual values, the predictions, and a cost matrix and outputs a cost. Test it on the above example."
   ]
  },
  {
   "cell_type": "code",
   "execution_count": 3,
   "metadata": {},
   "outputs": [
    {
     "name": "stdout",
     "output_type": "stream",
     "text": [
      "Total Cost: 33\n"
     ]
    }
   ],
   "source": [
    "def calculate_cost(actual, predicted, cost_matrix):\n",
    "    total_cost = 0\n",
    "    for a, p in zip(actual, predicted):\n",
    "        if a == 'Y' and p == 'Y':\n",
    "            total_cost += cost_matrix['Y']['Y']\n",
    "        elif a == 'Y' and p == 'N':\n",
    "            total_cost += cost_matrix['Y']['N']\n",
    "        elif a == 'N' and p == 'Y':\n",
    "            total_cost += cost_matrix['N']['Y']\n",
    "        elif a == 'N' and p == 'N':\n",
    "            total_cost += cost_matrix['N']['N']\n",
    "    return total_cost\n",
    "\n",
    "# Given Cost Matrix\n",
    "cost_matrix = {\n",
    "    'Y': {'Y': -1, 'N': 5},\n",
    "    'N': {'Y': 10, 'N': 0}\n",
    "}\n",
    "\n",
    "# Given actual and predicted classes\n",
    "actual_class = [\"Y\", \"N\", \"N\", \"Y\", \"N\", \"N\", \"Y\", \"N\", \"N\", \"N\"]\n",
    "predicted_class = [\"Y\", \"N\", \"Y\", \"N\", \"N\", \"N\", \"Y\", \"Y\", \"Y\", \"N\"]\n",
    "\n",
    "# Calculate and print the total cost\n",
    "total_cost = calculate_cost(actual_class, predicted_class, cost_matrix)\n",
    "print(\"Total Cost:\", total_cost)"
   ]
  },
  {
   "cell_type": "markdown",
   "metadata": {},
   "source": [
    "d) Implement functions for the following:\n",
    "\n",
    "- accuracy\n",
    "- precision\n",
    "- recall\n",
    "- f-measure\n",
    "\n",
    "and apply them to the above example."
   ]
  },
  {
   "cell_type": "code",
   "execution_count": 4,
   "metadata": {},
   "outputs": [
    {
     "name": "stdout",
     "output_type": "stream",
     "text": [
      "Accuracy: 0.6\n",
      "Precision: 0.4\n",
      "Recall: 0.6666666666666666\n",
      "F-measure: 0.5\n"
     ]
    }
   ],
   "source": [
    "def accuracy(actual, predicted):\n",
    "    correct_predictions = sum(1 for a, p in zip(actual, predicted) if a == p)\n",
    "    total_predictions = len(actual)\n",
    "    return correct_predictions / total_predictions\n",
    "\n",
    "def precision(actual, predicted):\n",
    "    true_positive = sum(1 for a, p in zip(actual, predicted) if a == 'Y' and p == 'Y')\n",
    "    false_positive = sum(1 for a, p in zip(actual, predicted) if a == 'N' and p == 'Y')\n",
    "    return true_positive / (true_positive + false_positive) if (true_positive + false_positive) != 0 else 0\n",
    "\n",
    "def recall(actual, predicted):\n",
    "    true_positive = sum(1 for a, p in zip(actual, predicted) if a == 'Y' and p == 'Y')\n",
    "    false_negative = sum(1 for a, p in zip(actual, predicted) if a == 'Y' and p == 'N')\n",
    "    return true_positive / (true_positive + false_negative) if (true_positive + false_negative) != 0 else 0\n",
    "\n",
    "def f_measure(actual, predicted):\n",
    "    precision_value = precision(actual, predicted)\n",
    "    recall_value = recall(actual, predicted)\n",
    "    return 2 * (precision_value * recall_value) / (precision_value + recall_value) if (precision_value + recall_value) != 0 else 0\n",
    "\n",
    "# Given actual and predicted classes\n",
    "actual_class = [\"Y\", \"N\", \"N\", \"Y\", \"N\", \"N\", \"Y\", \"N\", \"N\", \"N\"]\n",
    "predicted_class = [\"Y\", \"N\", \"Y\", \"N\", \"N\", \"N\", \"Y\", \"Y\", \"Y\", \"N\"]\n",
    "\n",
    "# Calculate and print accuracy, precision, recall, and F-measure\n",
    "print(\"Accuracy:\", accuracy(actual_class, predicted_class))\n",
    "print(\"Precision:\", precision(actual_class, predicted_class))\n",
    "print(\"Recall:\", recall(actual_class, predicted_class))\n",
    "print(\"F-measure:\", f_measure(actual_class, predicted_class))"
   ]
  }
 ],
 "metadata": {
  "kernelspec": {
   "display_name": "Python 3",
   "language": "python",
   "name": "python3"
  },
  "language_info": {
   "codemirror_mode": {
    "name": "ipython",
    "version": 3
   },
   "file_extension": ".py",
   "mimetype": "text/x-python",
   "name": "python",
   "nbconvert_exporter": "python",
   "pygments_lexer": "ipython3",
   "version": "3.10.2"
  },
  "orig_nbformat": 4,
  "vscode": {
   "interpreter": {
    "hash": "e7370f93d1d0cde622a1f8e1c04877d8463912d04d973331ad4851f04de6915a"
   }
  }
 },
 "nbformat": 4,
 "nbformat_minor": 2
}
